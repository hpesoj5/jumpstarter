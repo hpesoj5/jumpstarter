{
 "cells": [
  {
   "cell_type": "markdown",
   "id": "0d5b9b2a",
   "metadata": {},
   "source": [
    "ai powered Goal manager app:\n",
    "\n",
    "Create learning goals and ai will plan a step by step process on how to achieve the goal within a user-specified time frame. The plan can be saved and used as a tracker.\n",
    "\n",
    "You can manage all your goals and the app can also compile a daily to do list from the goals"
   ]
  },
  {
   "cell_type": "markdown",
   "id": "b2398536",
   "metadata": {},
   "source": [
    "Frameworks recommended to learn and use from ChatGPT (paraphrased from GPT's answer):\n",
    "\n",
    "- Frontend (UI):\n",
    "    - Next.js\n",
    "    - React\n",
    "    - Tailwind CSS\n",
    "    - Shadcn/UI OR Chakra UI\n",
    "    - Framer Motion\n",
    "\n",
    "- Backend (API and DB):\n",
    "    - Python FastAPI\n",
    "    - ORM: SQLAlchemy + Alembic\n",
    "\n",
    "- Database:\n",
    "    - PostgreSQL\n",
    "\n",
    "- AI:\n",
    "    - OpenAI (ChatGPT)\n",
    "\n",
    "- Hosting:\n",
    "    - Frontend: Vercel or Netlify\n",
    "    - Database: Supabase or Neon\n",
    "    - Backend: Render or Fly.io or Railway\n"
   ]
  },
  {
   "cell_type": "markdown",
   "id": "ad42f575",
   "metadata": {},
   "source": [
    "## **What Does Each Component Do?**\n",
    "\n",
    "- React:\n",
    "    - JS library for building webapp UIs, widely used for creating interactive, dynamic and reusable UI **components** (like OOP)\n",
    "- Next.js\n",
    "    - Extra features for React\n",
    "    - Server-side rendering\n",
    "    - Static site generation\n",
    "    - File based routing (create file in pages/ folder)\n",
    "    - Used for dev server as well\n",
    "- Tailwind CSS:\n",
    "    - Defining styles inline in the html file using classes\n",
    "    - No need for separate CSS file\n",
    "- FastAPI:\n",
    "    - Provider of web APIs (connecting frontend to backend server)\n",
    "    - Can handle thousands of requests per second, much better than requests library\n",
    "    - Built on Starlette (web) and Pydantic (data validation)\n",
    "    - Asynchronous support\n",
    "- PostgreSQL:\n",
    "    - Relational database (stores structured data in tables with rows and columns, tables can have relationships with one another)\n",
    "- SQLAlchemy:\n",
    "    - Python Object-Relational Mapper (ORM)\n",
    "    - Allows one to interact with databases using Python classes and objects instead of raw SQL queries\n",
    "- Alembic:\n",
    "    - Database migration tool for SQLAlchemy\n",
    "    - For version-control of database schema (blueprint) and to update tables safely\n",
    "- Vercel:\n",
    "    - Cloud platform optimised for frontend frameworks\n",
    "    - Created by same team as Next.js\n",
    "- Render:\n",
    "    - Full-stack cloud platform to host frontend and backend apps"
   ]
  },
  {
   "cell_type": "markdown",
   "id": "5de437fe",
   "metadata": {},
   "source": []
  }
 ],
 "metadata": {
  "language_info": {
   "name": "python"
  }
 },
 "nbformat": 4,
 "nbformat_minor": 5
}
